{
  "nbformat": 4,
  "nbformat_minor": 0,
  "metadata": {
    "colab": {
      "provenance": [],
      "authorship_tag": "ABX9TyOXX6feU9o89gcZlmleI1jk",
      "include_colab_link": true
    },
    "kernelspec": {
      "name": "python3",
      "display_name": "Python 3"
    },
    "language_info": {
      "name": "python"
    }
  },
  "cells": [
    {
      "cell_type": "markdown",
      "metadata": {
        "id": "view-in-github",
        "colab_type": "text"
      },
      "source": [
        "<a href=\"https://colab.research.google.com/github/sufia-ashraf/python/blob/main/pt2.ipynb\" target=\"_parent\"><img src=\"https://colab.research.google.com/assets/colab-badge.svg\" alt=\"Open In Colab\"/></a>"
      ]
    },
    {
      "cell_type": "code",
      "execution_count": null,
      "metadata": {
        "colab": {
          "base_uri": "https://localhost:8080/"
        },
        "id": "-4REVl37IOWk",
        "outputId": "9b43a9b6-a5b8-4a53-c34f-499b8d80a00a"
      },
      "outputs": [
        {
          "output_type": "stream",
          "name": "stdout",
          "text": [
            "2\n"
          ]
        }
      ],
      "source": [
        "#48Code to count the number of occurrence of a Character in String.\n",
        "str='London'\n",
        "print(str.count('o'))"
      ]
    },
    {
      "cell_type": "code",
      "source": [
        "#49)Write a loop that prints out the index of every ‘i’ in ‘Mississippi’.\n",
        "str='Mississippi'\n",
        "index = 0\n",
        "for letter in str:\n",
        "  if letter == \"i\":\n",
        "    print(index)\n",
        "  index +=1"
      ],
      "metadata": {
        "colab": {
          "base_uri": "https://localhost:8080/"
        },
        "id": "fqHUsFtXLGfI",
        "outputId": "10af3986-861a-4ea4-8d3a-b51344322e87"
      },
      "execution_count": null,
      "outputs": [
        {
          "output_type": "stream",
          "name": "stdout",
          "text": [
            "1\n",
            "4\n",
            "7\n",
            "10\n"
          ]
        }
      ]
    },
    {
      "cell_type": "code",
      "source": [
        "#50Using endswith() & startswith() function print the character used in the start and end of a string.\n",
        "x='Country'\n",
        "print(x.startswith('C'))\n",
        "print(x.endswith('y'))"
      ],
      "metadata": {
        "colab": {
          "base_uri": "https://localhost:8080/"
        },
        "id": "OJZ87B8pMud2",
        "outputId": "2bb61f9e-fc86-47a2-eccb-1d5df947e44d"
      },
      "execution_count": null,
      "outputs": [
        {
          "output_type": "stream",
          "name": "stdout",
          "text": [
            "True\n",
            "True\n"
          ]
        }
      ]
    },
    {
      "cell_type": "code",
      "source": [
        "##51Write a python program to enter a string and a substring.\n",
        "s = 'updownupdownupdown'\n",
        "sb = 'up'\n",
        "result= 0\n",
        "sub_len = len(sb)\n",
        "for i in range(len(s)):\n",
        "    if s[i:i+sub_len] == sb:\n",
        "        result += 1\n",
        "print (result)"
      ],
      "metadata": {
        "colab": {
          "base_uri": "https://localhost:8080/"
        },
        "id": "XHAqKtnuSGuo",
        "outputId": "90ae6610-852e-4f34-c11e-1b8a2dbbe219"
      },
      "execution_count": null,
      "outputs": [
        {
          "output_type": "stream",
          "name": "stdout",
          "text": [
            "3\n"
          ]
        }
      ]
    },
    {
      "cell_type": "code",
      "source": [
        "#52program that inputs a word and prints “Yes it starts!!”if the given word starts with “0”,”1”,”2”,.,”9”\n",
        "str = input (\"Enter the word:\")\n",
        "if str[0].isdigit():\n",
        "    print (\"Yes it starts !!\")\n",
        "else :\n",
        "    print(\"The string does not start with 0, 1, 2, ... , 9\")"
      ],
      "metadata": {
        "colab": {
          "base_uri": "https://localhost:8080/"
        },
        "id": "eQh7bEhUTECV",
        "outputId": "03b4ee52-54a2-4ba2-e863-ad099ac1477f"
      },
      "execution_count": null,
      "outputs": [
        {
          "output_type": "stream",
          "name": "stdout",
          "text": [
            "Enter the word:12hello\n",
            "Yes it starts !!\n"
          ]
        }
      ]
    },
    {
      "cell_type": "code",
      "source": [
        "#53program to reverse a string by using function\n",
        "def reverse(s):\n",
        "    str = \"\"\n",
        "    for i in s:\n",
        "        str = i + str\n",
        "    return str\n",
        "\n",
        "s = \"Mississippi\"\n",
        "print(\"The original string is : \", end=\"\")\n",
        "print(s)\n",
        "  \n",
        "print(\"The reversed string(using loops) is : \", end=\"\")\n",
        "print(reverse(s))"
      ],
      "metadata": {
        "colab": {
          "base_uri": "https://localhost:8080/"
        },
        "id": "RI8ifppBTkfu",
        "outputId": "c72d2c88-47ea-49ab-e3e5-99b2187d84f8"
      },
      "execution_count": null,
      "outputs": [
        {
          "output_type": "stream",
          "name": "stdout",
          "text": [
            "The original string is : Mississippi\n",
            "The reversed string(using loops) is : ippississiM\n"
          ]
        }
      ]
    },
    {
      "cell_type": "code",
      "source": [
        "#54program to print elements of a list [ ‘q’,’w’,’e’,’r’,’t’,’y’] in separate lines..\n",
        "L= ['q','w','e','r','t','y']\n",
        "length=len(L)\n",
        "for a in range(length):\n",
        "  print (\"at indexes\",a,\"and\",(a-length),\"element:\",L[a])"
      ],
      "metadata": {
        "colab": {
          "base_uri": "https://localhost:8080/"
        },
        "id": "WgXcxbqdU5O3",
        "outputId": "c750793f-da55-4aea-c9c1-8beb7a6bb444"
      },
      "execution_count": null,
      "outputs": [
        {
          "output_type": "stream",
          "name": "stdout",
          "text": [
            "at indexes 0 and -6 element: q\n",
            "at indexes 1 and -5 element: w\n",
            "at indexes 2 and -4 element: e\n",
            "at indexes 3 and -3 element: r\n",
            "at indexes 4 and -2 element: t\n",
            "at indexes 5 and -1 element: y\n"
          ]
        }
      ]
    },
    {
      "cell_type": "code",
      "source": [
        "#55program to replace a character in a string.\n",
        "str1 = \"Midnight\"\n",
        "x = str1.replace(\"h\", \"t\" )\n",
        "print(str1)\n",
        "print(x)"
      ],
      "metadata": {
        "colab": {
          "base_uri": "https://localhost:8080/"
        },
        "id": "5tGGhwCad3xk",
        "outputId": "66926f74-f28d-4c0f-c420-94322dc42a68"
      },
      "execution_count": null,
      "outputs": [
        {
          "output_type": "stream",
          "name": "stdout",
          "text": [
            "Midnight\n",
            "Midnigtt\n"
          ]
        }
      ]
    },
    {
      "cell_type": "code",
      "source": [
        "#56  Program to print whether a given character is an uppercase,lowercase,digit or any string\n",
        "string = 'RAIN'\n",
        "print(string.isupper())\n",
        " \n",
        "string = 'rain'\n",
        "print(string.islower())\n"
      ],
      "metadata": {
        "colab": {
          "base_uri": "https://localhost:8080/"
        },
        "id": "tU8EXFewfEFW",
        "outputId": "7c897242-927e-404f-a73b-ca65164e6b8b"
      },
      "execution_count": null,
      "outputs": [
        {
          "output_type": "stream",
          "name": "stdout",
          "text": [
            "True\n",
            "True\n"
          ]
        }
      ]
    },
    {
      "cell_type": "code",
      "source": [
        "#57program to enter a string.\n",
        "str=input(\"enter a string\")\n",
        "print(str)"
      ],
      "metadata": {
        "colab": {
          "base_uri": "https://localhost:8080/"
        },
        "id": "kC_y-Y-CwPNU",
        "outputId": "d6742cd3-b843-4047-9a94-63fab9ad4501"
      },
      "execution_count": null,
      "outputs": [
        {
          "output_type": "stream",
          "name": "stdout",
          "text": [
            "enter a stringSun\n",
            "Sun\n"
          ]
        }
      ]
    },
    {
      "cell_type": "code",
      "source": [
        "#58program to enter a string in smaller case and convert it into upper case\n",
        "str1='hello'\n",
        "print(str1.upper())\n"
      ],
      "metadata": {
        "colab": {
          "base_uri": "https://localhost:8080/"
        },
        "id": "PWOxw8W-wkjx",
        "outputId": "e460a06a-4ff3-4bc8-e8b2-6f0304a9a928"
      },
      "execution_count": null,
      "outputs": [
        {
          "output_type": "stream",
          "name": "stdout",
          "text": [
            "HELLO\n"
          ]
        }
      ]
    },
    {
      "cell_type": "code",
      "source": [
        "#59program to enter a string and print the length of the string using built-in function.\n",
        "str1=\"python\"\n",
        "print(len(str1))"
      ],
      "metadata": {
        "colab": {
          "base_uri": "https://localhost:8080/"
        },
        "id": "--2kYKb7xWhz",
        "outputId": "21012962-bb69-44cd-b5d6-6f76fac2845b"
      },
      "execution_count": null,
      "outputs": [
        {
          "output_type": "stream",
          "name": "stdout",
          "text": [
            "6\n"
          ]
        }
      ]
    },
    {
      "cell_type": "code",
      "source": [
        "#60 program to replace one string with the other string.\n",
        "str1='country'\n",
        "print(str1.replace('country','city'))"
      ],
      "metadata": {
        "colab": {
          "base_uri": "https://localhost:8080/"
        },
        "id": "UjMLgASPxkop",
        "outputId": "30acf397-0d2c-4fd6-c080-37de3333780f"
      },
      "execution_count": null,
      "outputs": [
        {
          "output_type": "stream",
          "name": "stdout",
          "text": [
            "city\n"
          ]
        }
      ]
    },
    {
      "cell_type": "code",
      "source": [
        "#61program to enter a string & then enter a character & check the frequency of that character in that string.\n",
        "string=input(\"enter a string\")\n",
        "ch=input(\"enter ch\")\n",
        "count=0\n",
        "for i in range (len(string)):\n",
        "  if(string[i]==ch):\n",
        "    count=count+1\n",
        "print(\"the frequency of the\",ch,\"in the string is:\",count)"
      ],
      "metadata": {
        "colab": {
          "base_uri": "https://localhost:8080/"
        },
        "id": "0aqzYnkgx9iI",
        "outputId": "d6ad6c47-344c-4da5-9223-e1c12f7bdca6"
      },
      "execution_count": null,
      "outputs": [
        {
          "output_type": "stream",
          "name": "stdout",
          "text": [
            "enter a string1234\n",
            "enter chhello\n",
            "the frequency of the hello in the string is: 0\n"
          ]
        }
      ]
    },
    {
      "cell_type": "code",
      "source": [
        "#62program that receives the index and returns the corresponding value.\n",
        "a = eval (input('Enter the list ='))\n",
        "b = int (input (\"Enter the index number =\"))\n",
        "if b< len(a):\n",
        "    print (\"value is =\", a[b])\n",
        "else :\n",
        "    print (\"index out of range\")"
      ],
      "metadata": {
        "colab": {
          "base_uri": "https://localhost:8080/"
        },
        "id": "3GR0EdC6y6S5",
        "outputId": "8498006c-7792-43f8-dd18-847f6957d7fd"
      },
      "execution_count": null,
      "outputs": [
        {
          "output_type": "stream",
          "name": "stdout",
          "text": [
            "Enter the list =2,3,4,5,6,7,8\n",
            "Enter the index number =4\n",
            "value is = 6\n"
          ]
        }
      ]
    },
    {
      "cell_type": "code",
      "source": [
        "#63program that inputs two tuples creates a third that contains all elements \n",
        "tup1=eval(input(\"enter 1st tuple\"))\n",
        "tup2=eval(input(\"enter2nd tuple\"))\n",
        "tup3=tup1+tup2\n",
        "print(tup3)"
      ],
      "metadata": {
        "colab": {
          "base_uri": "https://localhost:8080/"
        },
        "id": "K0mLHuND0bFh",
        "outputId": "450d7643-5e4f-4726-aa9a-045b293110a1"
      },
      "execution_count": null,
      "outputs": [
        {
          "output_type": "stream",
          "name": "stdout",
          "text": [
            "enter 1st tuple4\n",
            "enter2nd tuple5\n",
            "9\n"
          ]
        }
      ]
    },
    {
      "cell_type": "code",
      "source": [],
      "metadata": {
        "id": "h2vE78ZV1I4h"
      },
      "execution_count": null,
      "outputs": []
    }
  ]
}