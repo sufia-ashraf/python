{
  "nbformat": 4,
  "nbformat_minor": 0,
  "metadata": {
    "colab": {
      "provenance": []
    },
    "kernelspec": {
      "name": "python3",
      "display_name": "Python 3"
    },
    "language_info": {
      "name": "python"
    }
  },
  "cells": [
    {
      "cell_type": "code",
      "execution_count": null,
      "metadata": {
        "colab": {
          "base_uri": "https://localhost:8080/"
        },
        "id": "hUTEAH1ELYqV",
        "outputId": "56097c3b-9c59-490c-95bc-cdc5c4fb1454"
      },
      "outputs": [
        {
          "output_type": "stream",
          "name": "stdout",
          "text": [
            "enter a number6\n",
            "positive number\n"
          ]
        }
      ],
      "source": [
        "#11)To find no. is –ve or +ve.\n",
        "x= float(input(\"enter a number\"))\n",
        "if x > 0:\n",
        "  print(\"positive number\")\n",
        "elif x < 0:\n",
        "  print(\"negative number\")"
      ]
    },
    {
      "cell_type": "code",
      "source": [
        "#12)To find no is even and odd.\n",
        "x = int(input(\"enter a number:\"))\n",
        "if (x % 2) == 0:\n",
        "  print(\"It is an even no.\")\n",
        "else:\n",
        "  print(\"it is an odd no.\")\n"
      ],
      "metadata": {
        "colab": {
          "base_uri": "https://localhost:8080/"
        },
        "id": "23bP51peOWe6",
        "outputId": "4f2340dd-5a86-406d-ea8f-4b6fcfac2347"
      },
      "execution_count": null,
      "outputs": [
        {
          "output_type": "stream",
          "name": "stdout",
          "text": [
            "enter a number:7\n",
            "it is an odd no.\n"
          ]
        }
      ]
    },
    {
      "cell_type": "code",
      "source": [
        "#13) To find elder person in 2 persons.\n",
        "p1= int(input(\"enter age of first person\"))\n",
        "p2=int(input(\"enter age of second person\"))\n",
        "if (p1>p2):\n",
        "  print (\"first person is elder\")\n",
        "else:\n",
        "  print(\"second person is elder\")"
      ],
      "metadata": {
        "colab": {
          "base_uri": "https://localhost:8080/"
        },
        "id": "wYBeU8bqPMXY",
        "outputId": "d7d73d44-9914-4c69-aedc-deb50b5d15c9"
      },
      "execution_count": null,
      "outputs": [
        {
          "output_type": "stream",
          "name": "stdout",
          "text": [
            "enter age of first person25\n",
            "enter age of second person45\n",
            "second person is elder\n"
          ]
        }
      ]
    },
    {
      "cell_type": "code",
      "source": [
        "#14) find given year is leap year or not.\n",
        "year = 1977\n",
        "if(year%4 == 0) or (year%400==0):\n",
        "  print (\"this is a leap year\")\n",
        "else:\n",
        "  print(\"this is not a leap year\")"
      ],
      "metadata": {
        "colab": {
          "base_uri": "https://localhost:8080/"
        },
        "id": "vtGbMUNBQLUY",
        "outputId": "c349e982-d25f-4dbb-af20-e5ed36be3220"
      },
      "execution_count": null,
      "outputs": [
        {
          "output_type": "stream",
          "name": "stdout",
          "text": [
            "this is not a leap year\n"
          ]
        }
      ]
    },
    {
      "cell_type": "code",
      "source": [
        "\n",
        "#15) compute area of square and triangle.\n",
        "#AREA OF TRIANGLE \n",
        "print(\"area of triangle\")\n",
        "base = int(input(\"enter base\"))\n",
        "height = int(input(\"enter height\"))\n",
        "area = (base*height)/2\n",
        "print(area)\n",
        "\n",
        "#AREA OF SQUARE\n",
        "print(\"area of square\")\n",
        "len=int(input(\"enter 1st side\"))\n",
        "len=int(input(\"enter 2nd side\"))\n",
        "area=(len*len)\n",
        "print(area)\n",
        "\n"
      ],
      "metadata": {
        "colab": {
          "base_uri": "https://localhost:8080/"
        },
        "id": "WqXzUxRvQ3QZ",
        "outputId": "1da7e0a2-b60a-49b8-ce3e-60abf80c5a2f"
      },
      "execution_count": null,
      "outputs": [
        {
          "output_type": "stream",
          "name": "stdout",
          "text": [
            "area of triangle\n",
            "enter base4\n",
            "enter height6\n",
            "12.0\n",
            "area of square\n",
            "enter 1st side5\n",
            "enter 2nd side7\n",
            "49\n"
          ]
        }
      ]
    },
    {
      "cell_type": "code",
      "source": [],
      "metadata": {
        "id": "Eu8-BclBSp_3"
      },
      "execution_count": null,
      "outputs": []
    }
  ]
}