{
  "nbformat": 4,
  "nbformat_minor": 0,
  "metadata": {
    "colab": {
      "provenance": [],
      "authorship_tag": "ABX9TyOuMXD5G+2HNicy2ibmiQzy",
      "include_colab_link": true
    },
    "kernelspec": {
      "name": "python3",
      "display_name": "Python 3"
    },
    "language_info": {
      "name": "python"
    }
  },
  "cells": [
    {
      "cell_type": "markdown",
      "metadata": {
        "id": "view-in-github",
        "colab_type": "text"
      },
      "source": [
        "<a href=\"https://colab.research.google.com/github/sufia-ashraf/python/blob/main/Copy_of_pt1.ipynb\" target=\"_parent\"><img src=\"https://colab.research.google.com/assets/colab-badge.svg\" alt=\"Open In Colab\"/></a>"
      ]
    },
    {
      "cell_type": "code",
      "execution_count": null,
      "metadata": {
        "colab": {
          "base_uri": "https://localhost:8080/"
        },
        "id": "QR37IOYEYvUE",
        "outputId": "b29fec35-6e40-41a8-f8d2-1444b5d1020b"
      },
      "outputs": [
        {
          "output_type": "stream",
          "name": "stdout",
          "text": [
            "enter 1st no.4\n",
            "enter 2nd no.5\n",
            "enter 3rd no.6\n",
            "3rd no. is greater\n"
          ]
        }
      ],
      "source": [
        "#21) which no is greater no in 3 numbers.\n",
        "x=int(input(\"enter 1st no.\"))\n",
        "y=int(input(\"enter 2nd no.\"))\n",
        "z=int(input(\"enter 3rd no.\"))\n",
        "if x>y>z:\n",
        "  print(\"1st no. is greater\")\n",
        "elif y>x>z:\n",
        "  print(\"2nd no. is greater\")\n",
        "else:\n",
        "  print(\"3rd no. is greater\")"
      ]
    },
    {
      "cell_type": "code",
      "source": [
        "#22program to check whether a number is divisible by 5 and 11 or not.\n",
        "num=int(input(\"enter a +ve no.\"))\n",
        "if ((num%5==0)and(num%11==0)):\n",
        "  print(\"given no. is divisible by 5 & 11\")\n",
        "else:\n",
        "  print(\"given no. not divisible by 5 & 11\")"
      ],
      "metadata": {
        "colab": {
          "base_uri": "https://localhost:8080/"
        },
        "id": "Wmqi2Vrrl0Pd",
        "outputId": "f0c690bc-521a-4273-ec58-ad11b36e7726"
      },
      "execution_count": null,
      "outputs": [
        {
          "output_type": "stream",
          "name": "stdout",
          "text": [
            "enter a +ve no.6\n",
            "given no. not divisible by 5 & 11\n"
          ]
        }
      ]
    },
    {
      "cell_type": "code",
      "source": [
        "#23) program to display Digit in text (0 to 9).\n",
        "num=int(input(\"enter a no. between 0 to 9:\"))\n",
        "if (num==0):\n",
        "  print(\"Zero\")\n",
        "elif (num==1):\n",
        "  print(\"One\")\n",
        "elif(num==2):\n",
        "  print(\"two\")\n",
        "elif(num==3):\n",
        "  print(\"three\")\n",
        "elif(num==4):\n",
        "  print(\"four\")\n",
        "elif(num==5):\n",
        "  print(\"five\")\n",
        "elif(num==6):\n",
        "  print(\"six\")\n",
        "elif(num==7):\n",
        "  print(\"seven\")\n",
        "elif(num==8):\n",
        "  print(\"eight\")\n",
        "elif(num==9):\n",
        "  print(\"nine\")\n",
        "else:\n",
        "  print(\"no text available\")"
      ],
      "metadata": {
        "colab": {
          "base_uri": "https://localhost:8080/"
        },
        "id": "vCmdKRq2m5PV",
        "outputId": "119bde2a-61ec-40d5-e1a1-29c9f9ccf477"
      },
      "execution_count": null,
      "outputs": [
        {
          "output_type": "stream",
          "name": "stdout",
          "text": [
            "enter a no. between 0 to 9:7\n",
            "seven\n"
          ]
        }
      ]
    },
    {
      "cell_type": "code",
      "source": [
        "#24) program to Check given character is vowel or not.\n",
        "ch=input(\"enter a character:\")\n",
        "if(ch=='a'or ch=='e'or ch=='i'or ch=='o'or ch=='u'):\n",
        "  print(\"character is a vowel\")\n",
        "else:\n",
        "  print(\"Character is not a vowel\")"
      ],
      "metadata": {
        "colab": {
          "base_uri": "https://localhost:8080/"
        },
        "id": "Fpj_H9i_Cswx",
        "outputId": "4f47ec7d-c769-49d3-c48b-502c480bd10f"
      },
      "execution_count": null,
      "outputs": [
        {
          "output_type": "stream",
          "name": "stdout",
          "text": [
            "enter a character:i\n",
            "character is a vowel\n"
          ]
        }
      ]
    },
    {
      "cell_type": "code",
      "source": [
        "#25) program to print roots of a quadratic equation ax 2 + bx +c=0 (where a≠0).\n",
        "import math\n",
        "a = 1\n",
        "b = 5\n",
        "c = 6\n",
        "d = (b**2) - (4*a*c)\n",
        "sol1 = (-b-math.sqrt(d))/(2*a)\n",
        "sol2 = (-b+math.sqrt(d))/(2*a)\n",
        "print('The solution are {0} and {1}'.format(sol1,sol2))\n",
        "\n"
      ],
      "metadata": {
        "colab": {
          "base_uri": "https://localhost:8080/"
        },
        "id": "nQ7r2TgoFY65",
        "outputId": "2d52ec19-dfda-4f44-c86b-328ea82dcb9f"
      },
      "execution_count": null,
      "outputs": [
        {
          "output_type": "stream",
          "name": "stdout",
          "text": [
            "The solution are -3.0 and -2.0\n"
          ]
        }
      ]
    },
    {
      "cell_type": "code",
      "source": [
        "#26program to check whether the year is leap year or not.\n",
        "year = 2003\n",
        "if (year % 400 == 0) and (year % 100 == 0):\n",
        "    print(\"{0} is a leap year\".format(year))\n",
        "elif (year % 4 ==0) and (year % 100 != 0):\n",
        "    print(\"{0} is a leap year\".format(year))\n",
        "else:\n",
        "    print(\"{0} is not a leap year\".format(year))\n"
      ],
      "metadata": {
        "colab": {
          "base_uri": "https://localhost:8080/"
        },
        "id": "8P3uMeeWlgtL",
        "outputId": "0332fa53-61f7-430c-e2b6-cf5231c14c72"
      },
      "execution_count": null,
      "outputs": [
        {
          "output_type": "stream",
          "name": "stdout",
          "text": [
            "2003 is not a leap year\n"
          ]
        }
      ]
    },
    {
      "cell_type": "code",
      "source": [
        "#27)program to input marks in 3 subjects, compute average and then calculate grades.\n",
        "mark1=int(input(\"enter the mark for subject 1:\"))\n",
        "mark2=int(input(\"enter the mark for subject 2:\"))\n",
        "mark3=int(input(\"enter the mark for subject 3:\"))\n",
        "print(\"average mark is:\",(mark1+mark2+mark3)/3)\n",
        "per=((mark1+mark2+mark3)/300)*110\n",
        "print(\"percentage\",per)\n",
        "if per >=80:\n",
        "  print(\"Grade is 'A\")\n",
        "elif per >= 70 and per <= 79 :\n",
        "    print (\"Grade is 'B'\")\n",
        "elif per >= 60 and per <= 69 :\n",
        "    print (\"Grade is 'C'\")\n",
        "elif per >= 50 and per <= 59 :\n",
        "    print (\"Grade is 'D'\")\n",
        "elif per >= 40 and per <= 49 :\n",
        "    print (\"Grade is 'E'\")\n",
        "elif per <= 39 :\n",
        "    print (\"Grade is 'R'\")\n"
      ],
      "metadata": {
        "colab": {
          "base_uri": "https://localhost:8080/"
        },
        "id": "lBA9t3NhmVei",
        "outputId": "138e82e2-714e-4369-808d-7e42bd365692"
      },
      "execution_count": null,
      "outputs": [
        {
          "output_type": "stream",
          "name": "stdout",
          "text": [
            "enter the mark for subject 1:50\n",
            "enter the mark for subject 2:56\n",
            "enter the mark for subject 3:60\n",
            "average mark is: 55.333333333333336\n",
            "percentage 60.86666666666667\n",
            "Grade is 'C'\n"
          ]
        }
      ]
    },
    {
      "cell_type": "code",
      "source": [
        "#28Write a menu driven program to calculate:\n",
        "def circle():\n",
        "\n",
        "   print(\"You choose Circle...\")\n",
        "\n",
        "   radius=int(input(\"enter the radius : \"))\n",
        "\n",
        "   print(\"Area of the circle with the radius of \",radius,\" units is\", 3.14* (radius**2),\"square units.\")\n",
        "\n",
        "def square():\n",
        "\n",
        "   print(\"You choose Square...\")\n",
        "\n",
        "   side=int(input(\"enter the size of a side of a square : \"))\n",
        "\n",
        "   print(\"Area of the square with the a side of \",side,\" units is\",side**2,\"square units.\")\n",
        "\n",
        "\n",
        "def rectangle():\n",
        "\n",
        "   print(\"You choose Rectangle...\")\n",
        "\n",
        "   length=int(input(\"enter the length of the rectangle : \"))\n",
        "\n",
        "   breadth=int(input(\"enter the breadth of the rectangle : \"))\n",
        "\n",
        "   print(\"Area of the rectangle with length and breadth \",length, \" \",breadth,\" units is\",length*breadth,\"square units.\")\n",
        "\n"
      ],
      "metadata": {
        "id": "vviQ1SZwn1B6"
      },
      "execution_count": null,
      "outputs": []
    },
    {
      "cell_type": "markdown",
      "source": [
        "ITERATIVE STATEMENTS::"
      ],
      "metadata": {
        "id": "X4100LM8paSA"
      }
    },
    {
      "cell_type": "code",
      "source": [
        "#29)Write a program to display all number from 1 to 15.\n",
        "for i in range(1,16):\n",
        "  print(i)"
      ],
      "metadata": {
        "colab": {
          "base_uri": "https://localhost:8080/"
        },
        "id": "L-_937uApEZ5",
        "outputId": "cdbba3aa-099b-478f-a5a8-cfdec7302f70"
      },
      "execution_count": null,
      "outputs": [
        {
          "output_type": "stream",
          "name": "stdout",
          "text": [
            "1\n",
            "2\n",
            "3\n",
            "4\n",
            "5\n",
            "6\n",
            "7\n",
            "8\n",
            "9\n",
            "10\n",
            "11\n",
            "12\n",
            "13\n",
            "14\n",
            "15\n"
          ]
        }
      ]
    },
    {
      "cell_type": "code",
      "source": [
        "#30) program to display sum of all numbers from 1 to 10.\n",
        "n=int(input(\"Enter the total number you want to enter:\"))\n",
        "\n",
        "sum=0\n",
        "\n",
        "for i in range(n):\n",
        "\n",
        "    x=int(input(\"Enter the number:\"))\n",
        "\n",
        "    sum=sum+x\n",
        "\n",
        "avg=sum/n\n",
        "\n",
        "print(\"Average=\",avg)"
      ],
      "metadata": {
        "colab": {
          "base_uri": "https://localhost:8080/"
        },
        "id": "f2KRhpcKpw-4",
        "outputId": "3ba1f043-dd89-4629-ea51-a82c147d0d9c"
      },
      "execution_count": null,
      "outputs": [
        {
          "output_type": "stream",
          "name": "stdout",
          "text": [
            "The sum is 55\n",
            "55\n"
          ]
        }
      ]
    },
    {
      "cell_type": "code",
      "source": [
        "#31) program to display Average of number\n",
        "n=int(input(\"Enter the total number you want to enter:\"))\n",
        "sum=0\n",
        "for i in range(n):\n",
        "    x=int(input(\"Enter the number:\"))\n",
        "    sum=sum+x\n",
        "avg=sum/n\n",
        "\n",
        "print(\"Average=\",avg)"
      ],
      "metadata": {
        "colab": {
          "base_uri": "https://localhost:8080/"
        },
        "id": "oSULF8y9rjxk",
        "outputId": "cfa30d5c-af51-4061-e12a-2d701b94bab6"
      },
      "execution_count": null,
      "outputs": [
        {
          "output_type": "stream",
          "name": "stdout",
          "text": [
            "Enter the total number you want to enter:10\n",
            "Enter the number:1\n",
            "Enter the number:2\n",
            "Enter the number:3\n",
            "Enter the number:4\n",
            "Enter the number:5\n",
            "Enter the number:6\n",
            "Enter the number:7\n",
            "Enter the number:8\n",
            "Enter the number:9\n",
            "Enter the number:10\n",
            "Average= 5.5\n"
          ]
        }
      ]
    },
    {
      "cell_type": "code",
      "source": [
        "#32) program to display multiply all numbers from 1 to 10.\n",
        "num=int(input(\"enter the number\"))\n",
        "for count in range(1,11):\n",
        "  print(num*count)"
      ],
      "metadata": {
        "colab": {
          "base_uri": "https://localhost:8080/"
        },
        "id": "MtmdWlOl0Hmp",
        "outputId": "db552985-3f9d-4ae4-9a23-b851e0a0b6e2"
      },
      "execution_count": null,
      "outputs": [
        {
          "output_type": "stream",
          "name": "stdout",
          "text": [
            "enter the number3\n",
            "3\n",
            "6\n",
            "9\n",
            "12\n",
            "15\n",
            "18\n",
            "21\n",
            "24\n",
            "27\n",
            "30\n"
          ]
        }
      ]
    },
    {
      "cell_type": "code",
      "source": [
        "#33) program to display Square all numbers from 1 to 20.\n",
        "def printValues():\n",
        "\tl = list()\n",
        "\tfor i in range(1,21):\n",
        "\t\tl.append(i**2)\n",
        "\tprint(l)\n",
        "printValues()"
      ],
      "metadata": {
        "colab": {
          "base_uri": "https://localhost:8080/"
        },
        "id": "BOoJfICb9cYW",
        "outputId": "15157af4-32b9-4424-8759-ce30d9f7ba91"
      },
      "execution_count": null,
      "outputs": [
        {
          "output_type": "stream",
          "name": "stdout",
          "text": [
            "[1, 4, 9, 16, 25, 36, 49, 64, 81, 100, 121, 144, 169, 196, 225, 256, 289, 324, 361, 400]\n"
          ]
        }
      ]
    },
    {
      "cell_type": "code",
      "source": [
        "#34)program to display all odd numbers from 1 to 100\n",
        "start, end = 1,100\n",
        "for num in range(start, end + 1):\n",
        "    if num % 2 != 0:\n",
        "        print(num, end = \" \")"
      ],
      "metadata": {
        "colab": {
          "base_uri": "https://localhost:8080/"
        },
        "id": "KXHSBeD7948w",
        "outputId": "3cfa3a2b-f947-423c-f1fd-926b9dd495fe"
      },
      "execution_count": null,
      "outputs": [
        {
          "output_type": "stream",
          "name": "stdout",
          "text": [
            "1 3 5 7 9 11 13 15 17 19 21 23 25 27 29 31 33 35 37 39 41 43 45 47 49 51 53 55 57 59 61 63 65 67 69 71 73 75 77 79 81 83 85 87 89 91 93 95 97 99 "
          ]
        }
      ]
    },
    {
      "cell_type": "code",
      "source": [
        "#35)Write a program to display all even numbers from 1 to 100.\n",
        "start, end = 1, 100\n",
        "for num in range(start, end + 1):\n",
        "    if num % 2 == 0:\n",
        "        print(num, end = \" \")\n"
      ],
      "metadata": {
        "colab": {
          "base_uri": "https://localhost:8080/"
        },
        "id": "FHLqK29ZCskK",
        "outputId": "385733f5-6ca6-4964-8837-319e2da22c19"
      },
      "execution_count": null,
      "outputs": [
        {
          "output_type": "stream",
          "name": "stdout",
          "text": [
            "2 4 6 8 10 12 14 16 18 20 22 24 26 28 30 32 34 36 38 40 42 44 46 48 50 52 54 56 58 60 62 64 66 68 70 72 74 76 78 80 82 84 86 88 90 92 94 96 98 100 "
          ]
        }
      ]
    },
    {
      "cell_type": "code",
      "source": [
        "#36program that uses exactly four for loops to print the sequence of AAAAAAAAAABBBBBBBCCCCCCEEEEE\n",
        "for i in range (1, 5) :\n",
        "    print (\"A\" * i , end = \"\")\n",
        "for i in range (3, 5) :\n",
        "    print (\"B\" * i , end = \"\")\n",
        "for i in range (1, 4) :\n",
        "    print (\"C\" * i , end = \"\")\n",
        "for i in range (2, 4) :\n",
        "    print (\"E\" * i , end = \"\")\n"
      ],
      "metadata": {
        "colab": {
          "base_uri": "https://localhost:8080/"
        },
        "id": "Ke8A_a_rC9MG",
        "outputId": "d2af4255-e9fb-4ce6-9521-18ee40996f23"
      },
      "execution_count": null,
      "outputs": [
        {
          "output_type": "stream",
          "name": "stdout",
          "text": [
            "AAAAAAAAAABBBBBBBCCCCCCEEEEE"
          ]
        }
      ]
    },
    {
      "cell_type": "code",
      "source": [
        "#37Print first 10 prime numbers.\n",
        "lowervalue = 1\n",
        "uppervalue=10\n",
        "print(\"the prime no. in the rage are:\")\n",
        "for number in range (lowervalue, uppervalue+1):\n",
        "  if number>1:\n",
        "    for i in range(2,number):\n",
        "      if (number%i)==0:\n",
        "        break\n",
        "    else:\n",
        "      print(number)"
      ],
      "metadata": {
        "colab": {
          "base_uri": "https://localhost:8080/"
        },
        "id": "60xpS6T2IrLP",
        "outputId": "db89a52b-44d8-48be-bc33-c96d323f99fd"
      },
      "execution_count": null,
      "outputs": [
        {
          "output_type": "stream",
          "name": "stdout",
          "text": [
            "the prime no. in the rage are:\n",
            "2\n",
            "3\n",
            "5\n",
            "7\n"
          ]
        }
      ]
    },
    {
      "cell_type": "code",
      "source": [
        "#38Write a program to print the following *, **...\n",
        "n = int(input(\"Enter the number of rows\"))  \n",
        "for i in range(0, n):   \n",
        "        for j in range(0, i + 1):   \n",
        "            print(\"* \", end=\"\")         \n",
        "        print()  "
      ],
      "metadata": {
        "colab": {
          "base_uri": "https://localhost:8080/"
        },
        "id": "LKft4qoXDcaX",
        "outputId": "686f2602-026e-403f-e9d4-5213edeef8a4"
      },
      "execution_count": null,
      "outputs": [
        {
          "output_type": "stream",
          "name": "stdout",
          "text": [
            "Enter the number of rows5\n",
            "* \n",
            "* * \n",
            "* * * \n",
            "* * * * \n",
            "* * * * * \n"
          ]
        }
      ]
    },
    {
      "cell_type": "code",
      "source": [
        "#39)program to print following pattern#,##...\n",
        "rows = 5\n",
        "for i in range(rows, 0, -1):\n",
        "    for j in range(0, i + 1):\n",
        "        print('#', end=' ')\n",
        "    print(\"\\r\")\n"
      ],
      "metadata": {
        "colab": {
          "base_uri": "https://localhost:8080/"
        },
        "id": "ry1fcEOQEGQv",
        "outputId": "dcd5d860-beb6-412f-c837-3da5c3db2926"
      },
      "execution_count": null,
      "outputs": [
        {
          "output_type": "stream",
          "name": "stdout",
          "text": [
            "# # # # # # \r\n",
            "# # # # # \r\n",
            "# # # # \r\n",
            "# # # \r\n",
            "# # \r\n"
          ]
        }
      ]
    },
    {
      "cell_type": "code",
      "source": [
        "#40Write a script to print following:8,86..\n",
        "num = \"8642\"\n",
        "for i in range (4) :\n",
        "    print (num[ : i + 1])"
      ],
      "metadata": {
        "colab": {
          "base_uri": "https://localhost:8080/"
        },
        "id": "-za9XavNFr_5",
        "outputId": "46e39e7a-b1c0-4495-d4c0-f419d26a0d1f"
      },
      "execution_count": null,
      "outputs": [
        {
          "output_type": "stream",
          "name": "stdout",
          "text": [
            "8\n",
            "86\n",
            "864\n",
            "8642\n"
          ]
        }
      ]
    },
    {
      "cell_type": "code",
      "source": [
        "#41Print N Fibonacci numbers.\n",
        "num = int (input (\"Enter the number :\"))\n",
        "a = 0\n",
        "b = 1\n",
        "c = 0\n",
        "print (0, end = \" \")\n",
        "while 0 < num :\n",
        "    a, b = b, c\n",
        "    c = b + a\n",
        "    num -= 1\n",
        "    print (c, end = \" \")"
      ],
      "metadata": {
        "colab": {
          "base_uri": "https://localhost:8080/"
        },
        "id": "7Sw8sFvpGlVv",
        "outputId": "a3439946-d3b5-4aac-dd4d-05e84f2bb6e1"
      },
      "execution_count": null,
      "outputs": [
        {
          "output_type": "stream",
          "name": "stdout",
          "text": [
            "Enter the number :10\n",
            "0 1 1 2 3 5 8 13 21 34 55 "
          ]
        }
      ]
    },
    {
      "cell_type": "code",
      "source": [],
      "metadata": {
        "id": "KhgzXOcQH4Ef"
      },
      "execution_count": null,
      "outputs": []
    }
  ]
}